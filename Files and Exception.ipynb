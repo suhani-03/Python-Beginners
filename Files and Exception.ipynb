{
 "cells": [
  {
   "cell_type": "markdown",
   "metadata": {},
   "source": [
    "                                                Python Beginner:\n",
    "                                              Files and Exceptions\n",
    "                                              \n",
    "Files are used to store a wide variety of information to access it for later use; writing in program allows user to pick up where they left off the next time they run your program.\n",
    "\n",
    "Exceptions are special objects that help your program respond to errors in appropriate ways. for example, if you are trying to access a file which does not exist, you can use exception to display an informative error message of having the program crash."
   ]
  },
  {
   "cell_type": "markdown",
   "metadata": {},
   "source": [
    "Reading from the file:"
   ]
  },
  {
   "cell_type": "code",
   "execution_count": 1,
   "metadata": {},
   "outputs": [
    {
     "name": "stdout",
     "output_type": "stream",
     "text": [
      "We are here to practise python.\n",
      "Till the advance level...\n",
      "I love Python programming.\n",
      "Lets practise together...\n",
      "\n"
     ]
    }
   ],
   "source": [
    "file_name = 'file.txt'\n",
    "\n",
    "with open(file_name) as f_obj:\n",
    "    contents = f_obj.read()\n",
    "    \n",
    "print(contents)"
   ]
  },
  {
   "cell_type": "markdown",
   "metadata": {},
   "source": [
    "Reading line by line:"
   ]
  },
  {
   "cell_type": "code",
   "execution_count": 2,
   "metadata": {},
   "outputs": [
    {
     "name": "stdout",
     "output_type": "stream",
     "text": [
      "We are here to practise python.\n",
      "Till the advance level...\n",
      "I love Python programming.\n",
      "Lets practise together...\n"
     ]
    }
   ],
   "source": [
    "file_name = 'file.txt'\n",
    "\n",
    "with open(file_name) as f_obj:\n",
    "    for line in f_obj:\n",
    "        print(line.rstrip())"
   ]
  },
  {
   "cell_type": "markdown",
   "metadata": {},
   "source": [
    "Storing the lines in a list:"
   ]
  },
  {
   "cell_type": "code",
   "execution_count": 3,
   "metadata": {},
   "outputs": [
    {
     "name": "stdout",
     "output_type": "stream",
     "text": [
      "We are here to practise python.\n",
      "Till the advance level...\n",
      "I love Python programming.\n",
      "Lets practise together...\n"
     ]
    }
   ],
   "source": [
    "file_name = 'file.txt'\n",
    "\n",
    "with open(file_name) as f_obj:\n",
    "    lines = f_obj.readlines()\n",
    "    \n",
    "for line in lines:\n",
    "    print(line.rstrip())"
   ]
  },
  {
   "cell_type": "markdown",
   "metadata": {},
   "source": [
    "Writing to an empty file:"
   ]
  },
  {
   "cell_type": "code",
   "execution_count": 4,
   "metadata": {
    "collapsed": true
   },
   "outputs": [],
   "source": [
    "file_name = 'file.txt'\n",
    "\n",
    "with open(file_name, 'w') as f:\n",
    "    f.write('I love python programming!..')"
   ]
  },
  {
   "cell_type": "markdown",
   "metadata": {},
   "source": [
    "Writting multiple lines to an empty file:"
   ]
  },
  {
   "cell_type": "code",
   "execution_count": 5,
   "metadata": {
    "collapsed": true
   },
   "outputs": [],
   "source": [
    "file_name = 'file.txt'\n",
    "\n",
    "with open(file_name, 'w') as f:\n",
    "    f.write('We are here to practise python.\\n')\n",
    "    f.write('Till the advance level...\\n')"
   ]
  },
  {
   "cell_type": "markdown",
   "metadata": {},
   "source": [
    "Appending to a file:"
   ]
  },
  {
   "cell_type": "code",
   "execution_count": 6,
   "metadata": {
    "collapsed": true
   },
   "outputs": [],
   "source": [
    "file_name = 'file.txt'\n",
    "\n",
    "with open(file_name, 'a') as f:\n",
    "    f.write('I love Python programming.\\n')\n",
    "    f.write('Lets practise together...\\n')"
   ]
  },
  {
   "cell_type": "markdown",
   "metadata": {},
   "source": [
    "File paths\n",
    "\n",
    "Opening a file from a subfolder:"
   ]
  },
  {
   "cell_type": "code",
   "execution_count": 7,
   "metadata": {},
   "outputs": [
    {
     "name": "stdout",
     "output_type": "stream",
     "text": [
      "Welcome here,\n",
      "We are practising python\n",
      "you are welcome to join ...\n"
     ]
    }
   ],
   "source": [
    "file_path = \"file_path/text.txt\"\n",
    "\n",
    "with open(file_path) as f_obj:\n",
    "    lines = f_obj.readlines()\n",
    "    \n",
    "for line in lines:\n",
    "    print(line.rstrip())"
   ]
  },
  {
   "cell_type": "markdown",
   "metadata": {
    "collapsed": true
   },
   "source": [
    "Opening a file using absolute path:"
   ]
  },
  {
   "cell_type": "code",
   "execution_count": 8,
   "metadata": {},
   "outputs": [],
   "source": [
    "file_path = 'C:/Users/suhan/GitHub Files/Python-Beginners/file_path/text.txt'\n",
    "\n",
    "with open(file_path) as f_obj:\n",
    "    lines = f_obj.readlines()"
   ]
  },
  {
   "cell_type": "markdown",
   "metadata": {},
   "source": [
    "    The try-except block\n",
    "\n",
    "When you think an error may occur, you can write try-except block to handle the exception that might be raised. The try block tells python to try running some code, and the except block tells python what to do if the code results in a particular kind of error."
   ]
  },
  {
   "cell_type": "markdown",
   "metadata": {},
   "source": [
    "Handling the ZeroDivisionError exception:"
   ]
  },
  {
   "cell_type": "code",
   "execution_count": 9,
   "metadata": {},
   "outputs": [
    {
     "name": "stdout",
     "output_type": "stream",
     "text": [
      "You can't divide by zero\n"
     ]
    }
   ],
   "source": [
    "try:\n",
    "    print(7/0)\n",
    "except ZeroDivisionError:\n",
    "    print(\"You can't divide by zero\")"
   ]
  },
  {
   "cell_type": "markdown",
   "metadata": {},
   "source": [
    "Handling the FileNotFoundError exception:"
   ]
  },
  {
   "cell_type": "code",
   "execution_count": 10,
   "metadata": {},
   "outputs": [
    {
     "name": "stdout",
     "output_type": "stream",
     "text": [
      "Can't find file data.txt.\n"
     ]
    }
   ],
   "source": [
    "file_name = 'data.txt'\n",
    "\n",
    "try:\n",
    "    with open(file_name) as f_obj:\n",
    "        lines = f_obj.readlines()\n",
    "except FileNotFoundError:\n",
    "    msg = \"Can't find file {0}.\".format(file_name)\n",
    "    print(msg)"
   ]
  },
  {
   "cell_type": "markdown",
   "metadata": {},
   "source": [
    "    The else block\n",
    "The try block should only contain code that may cause an error. Any code that depends on the try block running succesfully should be placed in the else block."
   ]
  },
  {
   "cell_type": "markdown",
   "metadata": {},
   "source": [
    "Using an else block:"
   ]
  },
  {
   "cell_type": "code",
   "execution_count": 11,
   "metadata": {},
   "outputs": [
    {
     "name": "stdout",
     "output_type": "stream",
     "text": [
      "Enter two numbers to check if they are divisible\n",
      "First number: 5\n",
      "Second number: 10\n",
      "0.5\n"
     ]
    }
   ],
   "source": [
    "print('Enter two numbers to check if they are divisible')\n",
    "\n",
    "x = input('First number: ')\n",
    "y = input('Second number: ')\n",
    "\n",
    "try:\n",
    "    result = int(x) / int(y)\n",
    "except ZeroDivisionError:\n",
    "    print(\"You can't divide by zero!\")\n",
    "else:\n",
    "    print(result)"
   ]
  },
  {
   "cell_type": "markdown",
   "metadata": {},
   "source": [
    "    Failing silently\n",
    "Sometimes you want your program to continue running when it encounters an error, without reporting the error to the user. Using the pass statement in an else block allows you to do this."
   ]
  },
  {
   "cell_type": "markdown",
   "metadata": {},
   "source": [
    "Using the pass statement inan else block:"
   ]
  },
  {
   "cell_type": "code",
   "execution_count": 12,
   "metadata": {
    "collapsed": true
   },
   "outputs": [],
   "source": [
    "file_names = ['text.txt, file.txt, data.txt, core_state.txt']\n",
    "\n",
    "for file_name in file_names:\n",
    "    # Report the length of each file found\n",
    "    try:\n",
    "        with open(file_name) as f_obj:\n",
    "            lines = f_obj.readlines()\n",
    "    except FileNotFoundError:\n",
    "        # Just move on to the next file\n",
    "        pass\n",
    "    else:\n",
    "        num_lines = len(lines)\n",
    "        msg = \"{0} has {1} lines.\".format(file_name, num_lines)\n",
    "        print(msg)"
   ]
  },
  {
   "cell_type": "markdown",
   "metadata": {},
   "source": [
    "    Avoid bare except blocks\n",
    "A bare except block will catch all exceptions, including keyboard interrupts and system exitsyou might need when forcing a program to close.\n",
    "\n",
    "If you want to use a try block and you're not sure which exceptionto catch, use Exception. It will catch most exceptions, but still allows you to interrupts programs intentionally."
   ]
  },
  {
   "cell_type": "markdown",
   "metadata": {},
   "source": [
    "Using Exception:"
   ]
  },
  {
   "cell_type": "code",
   "execution_count": 13,
   "metadata": {},
   "outputs": [
    {
     "name": "stdout",
     "output_type": "stream",
     "text": [
      "division by zero <class 'ZeroDivisionError'>\n"
     ]
    }
   ],
   "source": [
    "try:\n",
    "    b = 5%2\n",
    "    a = b/0\n",
    "except Exception as e:\n",
    "    print(e, type(e))"
   ]
  },
  {
   "cell_type": "markdown",
   "metadata": {},
   "source": [
    "    Storing data with json\n",
    "The json module allows you to dump simple python data structure into a file, and load that data from that file the next time the program runs. The JSON data format is not specific to python, so you can sharethis kind of data with people who work in other languages as well.\n",
    "\n",
    "Knowing how to manage exceptions is important when working with stored data. you'll usually want to make sure the data you're trying to load exists before working with it."
   ]
  },
  {
   "cell_type": "markdown",
   "metadata": {},
   "source": [
    "Using json.dump() to store data:"
   ]
  },
  {
   "cell_type": "code",
   "execution_count": 14,
   "metadata": {
    "collapsed": true
   },
   "outputs": [],
   "source": [
    "import json\n",
    "\n",
    "numbers = [2, 3, 5, 7, 11, 13]\n",
    "\n",
    "file_name = 'numbers.json'\n",
    "with open(file_name, 'w') as f_obj:\n",
    "    json.dump(numbers, f_obj)"
   ]
  },
  {
   "cell_type": "markdown",
   "metadata": {},
   "source": [
    "Using json.load() to read data:"
   ]
  },
  {
   "cell_type": "code",
   "execution_count": 15,
   "metadata": {},
   "outputs": [
    {
     "name": "stdout",
     "output_type": "stream",
     "text": [
      "[2, 3, 5, 7, 11, 13]\n"
     ]
    }
   ],
   "source": [
    "import json\n",
    "\n",
    "file_name = 'numbers.json'\n",
    "with open(file_name) as f_obj:\n",
    "    numbers = json.load(f_obj)\n",
    "    \n",
    "print(numbers)"
   ]
  },
  {
   "cell_type": "markdown",
   "metadata": {},
   "source": [
    "Making sure the stored data exists:"
   ]
  },
  {
   "cell_type": "code",
   "execution_count": 16,
   "metadata": {},
   "outputs": [
    {
     "name": "stdout",
     "output_type": "stream",
     "text": [
      "[2, 3, 5, 7, 11, 13]\n"
     ]
    }
   ],
   "source": [
    "import json\n",
    "\n",
    "file_name = 'numbers.json'\n",
    "\n",
    "try:\n",
    "    with open(file_name) as f_obj:\n",
    "        numbers = json.load(f_obj)\n",
    "except FileNotFoundError:\n",
    "    msg = \"Can't find file {0}.\".format(file_name)\n",
    "    print(msg)\n",
    "else:\n",
    "    print(numbers)"
   ]
  },
  {
   "cell_type": "code",
   "execution_count": null,
   "metadata": {
    "collapsed": true
   },
   "outputs": [],
   "source": []
  },
  {
   "cell_type": "code",
   "execution_count": null,
   "metadata": {
    "collapsed": true
   },
   "outputs": [],
   "source": []
  },
  {
   "cell_type": "code",
   "execution_count": null,
   "metadata": {
    "collapsed": true
   },
   "outputs": [],
   "source": []
  }
 ],
 "metadata": {
  "kernelspec": {
   "display_name": "Python 3",
   "language": "python",
   "name": "python3"
  },
  "language_info": {
   "codemirror_mode": {
    "name": "ipython",
    "version": 3
   },
   "file_extension": ".py",
   "mimetype": "text/x-python",
   "name": "python",
   "nbconvert_exporter": "python",
   "pygments_lexer": "ipython3",
   "version": "3.6.3"
  }
 },
 "nbformat": 4,
 "nbformat_minor": 2
}
