{
 "cells": [
  {
   "cell_type": "markdown",
   "metadata": {},
   "source": [
    "                                                   Functions\n",
    "Functions are named blocks of code designed to do one specific job. Functions allow you to write code once and that can be run whenever you need to accoplish same task. Using function effectively makes your program easier to write, read, test and fix."
   ]
  },
  {
   "cell_type": "markdown",
   "metadata": {},
   "source": [
    "Defining a function:"
   ]
  },
  {
   "cell_type": "code",
   "execution_count": 1,
   "metadata": {},
   "outputs": [
    {
     "name": "stdout",
     "output_type": "stream",
     "text": [
      "Hello World!\n"
     ]
    }
   ],
   "source": [
    "def simple():\n",
    "    print('Hello World!')\n",
    "    \n",
    "simple()"
   ]
  },
  {
   "cell_type": "markdown",
   "metadata": {},
   "source": [
    "Passing an argument:"
   ]
  },
  {
   "cell_type": "code",
   "execution_count": 2,
   "metadata": {},
   "outputs": [
    {
     "name": "stdout",
     "output_type": "stream",
     "text": [
      "Hello! Jen\n",
      "Hello! Phil\n",
      "Hello! Ellen\n"
     ]
    }
   ],
   "source": [
    "def simple(user):\n",
    "    print('Hello! ' + user)\n",
    "    \n",
    "simple('Jen')\n",
    "simple('Phil')\n",
    "simple('Ellen')"
   ]
  },
  {
   "cell_type": "markdown",
   "metadata": {},
   "source": [
    "    Positional and Keyword arguments:\n",
    "When you use positional arguments python matchsthe first argument in the function call with the first parameter in the function definition, and so forth.\n",
    "\n",
    "With keyword arguments, you specify which parameter each argument should be assigned to the function call. When you use the keyword arguments, the order of the argument doesn't matter."
   ]
  },
  {
   "cell_type": "markdown",
   "metadata": {},
   "source": [
    "Using positional arguments:"
   ]
  },
  {
   "cell_type": "code",
   "execution_count": 3,
   "metadata": {},
   "outputs": [
    {
     "name": "stdout",
     "output_type": "stream",
     "text": [
      "\n",
      "I have a Hamster.\n",
      "\n",
      "Its name is Arzoo.\n",
      "\n",
      "I have a Hedghog.\n",
      "\n",
      "Its name is Maid.\n"
     ]
    }
   ],
   "source": [
    "def describe_pet(animal, name):\n",
    "    print('\\nI have a ' + animal + '.')\n",
    "    print('\\nIts name is ' + name + '.')\n",
    "    \n",
    "describe_pet('Hamster', 'Arzoo')\n",
    "describe_pet('Hedghog', 'Maid')"
   ]
  },
  {
   "cell_type": "markdown",
   "metadata": {},
   "source": [
    "Using keyword arguments:"
   ]
  },
  {
   "cell_type": "code",
   "execution_count": 4,
   "metadata": {},
   "outputs": [
    {
     "name": "stdout",
     "output_type": "stream",
     "text": [
      "\n",
      "I have a Hamster.\n",
      "\n",
      "Its name is Arzoo.\n",
      "\n",
      "I have a Hedghog.\n",
      "\n",
      "Its name is Maid.\n"
     ]
    }
   ],
   "source": [
    "def describe_pet(animal, name):\n",
    "    print('\\nI have a ' + animal + '.')\n",
    "    print('\\nIts name is ' + name + '.')\n",
    "    \n",
    "describe_pet(animal = 'Hamster', name = 'Arzoo')\n",
    "describe_pet(animal = 'Hedghog', name = 'Maid')"
   ]
  },
  {
   "cell_type": "code",
   "execution_count": 5,
   "metadata": {},
   "outputs": [
    {
     "name": "stdout",
     "output_type": "stream",
     "text": [
      "10\n",
      "-10\n",
      "10\n"
     ]
    },
    {
     "data": {
      "text/plain": [
       "10"
      ]
     },
     "execution_count": 5,
     "metadata": {},
     "output_type": "execute_result"
    }
   ],
   "source": [
    "# Another example of positional arguments\n",
    "\n",
    "from math import *\n",
    "\n",
    "def one_fuc(*args):\n",
    "    print(max(args))\n",
    "    return max(args)\n",
    "\n",
    "def second_fuc(*args):\n",
    "    print(min(args))\n",
    "    return min(args)\n",
    "\n",
    "def third_fuc(args):\n",
    "    print(abs(args))\n",
    "    return abs(args)\n",
    "\n",
    "one_fuc(-10, -5, 5, 10)\n",
    "second_fuc(-10, -5, 5, 10)\n",
    "third_fuc(-10)"
   ]
  },
  {
   "cell_type": "markdown",
   "metadata": {},
   "source": [
    "Returning a dictionary:"
   ]
  },
  {
   "cell_type": "code",
   "execution_count": 6,
   "metadata": {},
   "outputs": [
    {
     "name": "stdout",
     "output_type": "stream",
     "text": [
      "{'First': 'jinix', 'Last': 'hems'}\n"
     ]
    }
   ],
   "source": [
    "def person(first, last):\n",
    "    person = {'First' : first, 'Last' : last}\n",
    "    return person\n",
    "\n",
    "musician = person('jinix', 'hems')\n",
    "print(musician)"
   ]
  },
  {
   "cell_type": "markdown",
   "metadata": {},
   "source": [
    "Returning a dictionary with optional values:"
   ]
  },
  {
   "cell_type": "code",
   "execution_count": 7,
   "metadata": {},
   "outputs": [
    {
     "name": "stdout",
     "output_type": "stream",
     "text": [
      "{'First': 'jinix', 'Last': 'hams', 'age': 25}\n",
      "{'First': 'Ellen', 'Last': 'Edward'}\n"
     ]
    }
   ],
   "source": [
    "def person(first, last , age=None):\n",
    "    person = {'First' : first, 'Last' : last}\n",
    "    if age:\n",
    "        person['age'] = age\n",
    "    return person\n",
    "\n",
    "musician = person('jinix', 'hams', 25)\n",
    "print(musician)\n",
    "\n",
    "musician = person('Ellen', 'Edward')\n",
    "print(musician)"
   ]
  },
  {
   "cell_type": "code",
   "execution_count": null,
   "metadata": {
    "collapsed": true
   },
   "outputs": [],
   "source": []
  },
  {
   "cell_type": "code",
   "execution_count": null,
   "metadata": {
    "collapsed": true
   },
   "outputs": [],
   "source": []
  }
 ],
 "metadata": {
  "kernelspec": {
   "display_name": "Python 3",
   "language": "python",
   "name": "python3"
  },
  "language_info": {
   "codemirror_mode": {
    "name": "ipython",
    "version": 3
   },
   "file_extension": ".py",
   "mimetype": "text/x-python",
   "name": "python",
   "nbconvert_exporter": "python",
   "pygments_lexer": "ipython3",
   "version": "3.6.3"
  }
 },
 "nbformat": 4,
 "nbformat_minor": 2
}
