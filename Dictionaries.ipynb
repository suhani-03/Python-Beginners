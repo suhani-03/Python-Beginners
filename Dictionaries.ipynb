{
 "cells": [
  {
   "cell_type": "markdown",
   "metadata": {},
   "source": [
    "                                                  Dictionaries\n",
    "Each information in a dictioanry is stored as a key, value pair. When you provide a key, python returns the value associated with that key."
   ]
  },
  {
   "cell_type": "markdown",
   "metadata": {},
   "source": [
    "Making a dictionary:"
   ]
  },
  {
   "cell_type": "code",
   "execution_count": 1,
   "metadata": {
    "collapsed": true
   },
   "outputs": [],
   "source": [
    "days = {'First' : 'Monday', 'Second' : 'Tuesday', 'Third' : 'Wednesday'}"
   ]
  },
  {
   "cell_type": "code",
   "execution_count": 2,
   "metadata": {},
   "outputs": [
    {
     "data": {
      "text/plain": [
       "{'First': 'Monday', 'Second': 'Tuesday', 'Third': 'Wednesday'}"
      ]
     },
     "execution_count": 2,
     "metadata": {},
     "output_type": "execute_result"
    }
   ],
   "source": [
    "days"
   ]
  },
  {
   "cell_type": "markdown",
   "metadata": {},
   "source": [
    "Getting the value associated with the list:"
   ]
  },
  {
   "cell_type": "code",
   "execution_count": 3,
   "metadata": {},
   "outputs": [
    {
     "name": "stdout",
     "output_type": "stream",
     "text": [
      "Monday\n",
      "Wednesday\n"
     ]
    }
   ],
   "source": [
    "days = {'First' : 'Monday', 'Second' : 'Tuesday', 'Third' : 'Wednesday'}\n",
    "\n",
    "print(days['First'])\n",
    "print(days['Third'])"
   ]
  },
  {
   "cell_type": "markdown",
   "metadata": {},
   "source": [
    "Getting the value with get():"
   ]
  },
  {
   "cell_type": "code",
   "execution_count": 4,
   "metadata": {},
   "outputs": [
    {
     "name": "stdout",
     "output_type": "stream",
     "text": [
      "Monday\n",
      "Wednesday\n"
     ]
    }
   ],
   "source": [
    "days = {'First' : 'Monday', 'Second' : 'Tuesday', 'Third' : 'Wednesday'}\n",
    "\n",
    "first_day = days.get('First')\n",
    "third_day = days.get('Third')\n",
    "\n",
    "print(first_day)\n",
    "print(third_day)"
   ]
  },
  {
   "cell_type": "markdown",
   "metadata": {},
   "source": [
    "Adding a key-value pair:"
   ]
  },
  {
   "cell_type": "code",
   "execution_count": 5,
   "metadata": {
    "collapsed": true
   },
   "outputs": [],
   "source": [
    "days = {'First' : 'Monday', 'Second' : 'Tuesday', 'Third' : 'Wednesday'}\n",
    "\n",
    "days['Forth'] = 'Thurday'\n",
    "days['Fivth'] = 'Friday'\n",
    "days['Sixth'] = 'Saturday'"
   ]
  },
  {
   "cell_type": "code",
   "execution_count": 6,
   "metadata": {},
   "outputs": [
    {
     "data": {
      "text/plain": [
       "{'First': 'Monday',\n",
       " 'Fivth': 'Friday',\n",
       " 'Forth': 'Thurday',\n",
       " 'Second': 'Tuesday',\n",
       " 'Sixth': 'Saturday',\n",
       " 'Third': 'Wednesday'}"
      ]
     },
     "execution_count": 6,
     "metadata": {},
     "output_type": "execute_result"
    }
   ],
   "source": [
    "days"
   ]
  },
  {
   "cell_type": "markdown",
   "metadata": {},
   "source": [
    "Adding to an empty dictionary:"
   ]
  },
  {
   "cell_type": "code",
   "execution_count": 7,
   "metadata": {
    "collapsed": true
   },
   "outputs": [],
   "source": [
    "name = {}\n",
    "\n",
    "name['Name'] = 'Ellen'\n",
    "name['Age'] = 20"
   ]
  },
  {
   "cell_type": "code",
   "execution_count": 8,
   "metadata": {},
   "outputs": [
    {
     "data": {
      "text/plain": [
       "{'Age': 20, 'Name': 'Ellen'}"
      ]
     },
     "execution_count": 8,
     "metadata": {},
     "output_type": "execute_result"
    }
   ],
   "source": [
    "name"
   ]
  },
  {
   "cell_type": "markdown",
   "metadata": {},
   "source": [
    "Modifying values in a dictionary:"
   ]
  },
  {
   "cell_type": "code",
   "execution_count": 9,
   "metadata": {},
   "outputs": [
    {
     "name": "stdout",
     "output_type": "stream",
     "text": [
      "{'Name': 'Eman', 'Age': 28}\n"
     ]
    }
   ],
   "source": [
    "name = {'Name' : 'Ellen', 'Age' : 20}\n",
    "\n",
    "name['Name'] = 'Eman'\n",
    "name['Age'] = 28\n",
    "\n",
    "print(name)"
   ]
  },
  {
   "cell_type": "markdown",
   "metadata": {},
   "source": [
    "Deleting the key-value pair:"
   ]
  },
  {
   "cell_type": "code",
   "execution_count": 10,
   "metadata": {},
   "outputs": [
    {
     "name": "stdout",
     "output_type": "stream",
     "text": [
      "{'Name': 'Eman'}\n"
     ]
    }
   ],
   "source": [
    "name = {'Name' : 'Eman', 'Age' : 28}\n",
    "\n",
    "del name['Age']\n",
    "print(name)"
   ]
  },
  {
   "cell_type": "markdown",
   "metadata": {},
   "source": [
    "Looping through all key-value pair:"
   ]
  },
  {
   "cell_type": "code",
   "execution_count": 11,
   "metadata": {},
   "outputs": [
    {
     "name": "stdout",
     "output_type": "stream",
     "text": [
      "Ellen : C\n",
      "Alle : Java\n",
      "Mini : Perl\n",
      "Neha : Python\n"
     ]
    }
   ],
   "source": [
    "# Storing students favorite language\n",
    "st = {'Ellen' : 'C',\n",
    "     'Alle' : 'Java',\n",
    "     'Mini' : 'Perl',\n",
    "     'Neha' : 'Python'}\n",
    "\n",
    "for key, value in st.items():\n",
    "    print(key + \" : \" + value)"
   ]
  },
  {
   "cell_type": "markdown",
   "metadata": {},
   "source": [
    "Looping through all the keys:"
   ]
  },
  {
   "cell_type": "code",
   "execution_count": 12,
   "metadata": {},
   "outputs": [
    {
     "name": "stdout",
     "output_type": "stream",
     "text": [
      "Ellen\n",
      "Alle\n",
      "Mini\n",
      "Neha\n"
     ]
    }
   ],
   "source": [
    "st = {'Ellen' : 'C',\n",
    "     'Alle' : 'Java',\n",
    "     'Mini' : 'Perl',\n",
    "     'Neha' : 'Python'}\n",
    "\n",
    "for key in st.keys():\n",
    "    print(key)"
   ]
  },
  {
   "cell_type": "markdown",
   "metadata": {},
   "source": [
    "Looping through all the values:"
   ]
  },
  {
   "cell_type": "code",
   "execution_count": 13,
   "metadata": {},
   "outputs": [
    {
     "name": "stdout",
     "output_type": "stream",
     "text": [
      "C\n",
      "Java\n",
      "Perl\n",
      "Python\n"
     ]
    }
   ],
   "source": [
    "st = {'Ellen' : 'C',\n",
    "     'Alle' : 'Java',\n",
    "     'Mini' : 'Perl',\n",
    "     'Neha' : 'Python'}\n",
    "\n",
    "for value in st.values():\n",
    "    print(value)"
   ]
  },
  {
   "cell_type": "markdown",
   "metadata": {},
   "source": [
    "Looping through all the keys in order:"
   ]
  },
  {
   "cell_type": "code",
   "execution_count": 14,
   "metadata": {},
   "outputs": [
    {
     "name": "stdout",
     "output_type": "stream",
     "text": [
      "Alle : Java\n",
      "Ellen : C\n",
      "Mini : Perl\n",
      "Neha : Python\n"
     ]
    }
   ],
   "source": [
    "st = {'Ellen' : 'C',\n",
    "     'Alle' : 'Java',\n",
    "     'Mini' : 'Perl',\n",
    "     'Neha' : 'Python'}\n",
    "\n",
    "for key, value in sorted(st.items()):\n",
    "    print(key + \" : \" + value)"
   ]
  },
  {
   "cell_type": "markdown",
   "metadata": {},
   "source": [
    "To get the Length of a dictionary:"
   ]
  },
  {
   "cell_type": "code",
   "execution_count": 15,
   "metadata": {
    "collapsed": true
   },
   "outputs": [],
   "source": [
    "length = len(st)"
   ]
  },
  {
   "cell_type": "code",
   "execution_count": 16,
   "metadata": {},
   "outputs": [
    {
     "data": {
      "text/plain": [
       "4"
      ]
     },
     "execution_count": 16,
     "metadata": {},
     "output_type": "execute_result"
    }
   ],
   "source": [
    "length"
   ]
  },
  {
   "cell_type": "markdown",
   "metadata": {},
   "source": [
    "Nesting - A list of dictionaries\n",
    "\n",
    "Its usefull sometimes to store a set of dictionaries in a list, this is called nesting."
   ]
  },
  {
   "cell_type": "markdown",
   "metadata": {},
   "source": [
    "Storing dictionaries in a list:"
   ]
  },
  {
   "cell_type": "code",
   "execution_count": 17,
   "metadata": {
    "collapsed": true
   },
   "outputs": [],
   "source": [
    "users = []\n",
    "\n",
    "new_user = {'Name' : 'P',\n",
    "           'Age' : '25',\n",
    "           'Gender' : 'M'}\n",
    "\n",
    "users.append(new_user)"
   ]
  },
  {
   "cell_type": "code",
   "execution_count": 18,
   "metadata": {},
   "outputs": [
    {
     "data": {
      "text/plain": [
       "[{'Age': '25', 'Gender': 'M', 'Name': 'P'}]"
      ]
     },
     "execution_count": 18,
     "metadata": {},
     "output_type": "execute_result"
    }
   ],
   "source": [
    "users"
   ]
  },
  {
   "cell_type": "code",
   "execution_count": 19,
   "metadata": {
    "collapsed": true
   },
   "outputs": [],
   "source": [
    "new_user = {'Name' : 'R',\n",
    "           'Age' : '26',\n",
    "           'Gender' : 'F'}\n",
    "\n",
    "users.append(new_user)"
   ]
  },
  {
   "cell_type": "code",
   "execution_count": 20,
   "metadata": {},
   "outputs": [
    {
     "data": {
      "text/plain": [
       "[{'Age': '25', 'Gender': 'M', 'Name': 'P'},\n",
       " {'Age': '26', 'Gender': 'F', 'Name': 'R'}]"
      ]
     },
     "execution_count": 20,
     "metadata": {},
     "output_type": "execute_result"
    }
   ],
   "source": [
    "users"
   ]
  },
  {
   "cell_type": "code",
   "execution_count": 21,
   "metadata": {},
   "outputs": [
    {
     "name": "stdout",
     "output_type": "stream",
     "text": [
      "Name : P\n",
      "Age : 25\n",
      "Gender : M\n",
      "\n",
      "\n",
      "Name : R\n",
      "Age : 26\n",
      "Gender : F\n",
      "\n",
      "\n"
     ]
    }
   ],
   "source": [
    "for user_dict in users:\n",
    "    for key, value in user_dict.items():\n",
    "        print(key + ' : ' + value)\n",
    "    print('\\n')"
   ]
  },
  {
   "cell_type": "markdown",
   "metadata": {},
   "source": [
    "You can also define a list of dictionaries without using append():"
   ]
  },
  {
   "cell_type": "code",
   "execution_count": 22,
   "metadata": {
    "collapsed": true
   },
   "outputs": [],
   "source": [
    "users = [{'Name' : 'T',\n",
    "         'Age' : '45',\n",
    "         'Gender' : 'M'},\n",
    "         \n",
    "        {'Name' : 'H',\n",
    "        'Age' : '46',\n",
    "        'Gender' : 'F'}]"
   ]
  },
  {
   "cell_type": "code",
   "execution_count": 23,
   "metadata": {},
   "outputs": [
    {
     "data": {
      "text/plain": [
       "[{'Age': '45', 'Gender': 'M', 'Name': 'T'},\n",
       " {'Age': '46', 'Gender': 'F', 'Name': 'H'}]"
      ]
     },
     "execution_count": 23,
     "metadata": {},
     "output_type": "execute_result"
    }
   ],
   "source": [
    "users"
   ]
  },
  {
   "cell_type": "code",
   "execution_count": 24,
   "metadata": {},
   "outputs": [
    {
     "name": "stdout",
     "output_type": "stream",
     "text": [
      "Name : T\n",
      "Age : 45\n",
      "Gender : M\n",
      "\n",
      "\n",
      "Name : H\n",
      "Age : 46\n",
      "Gender : F\n",
      "\n",
      "\n"
     ]
    }
   ],
   "source": [
    "for user_dict in users:\n",
    "    for key, value in user_dict.items():\n",
    "        print(key + ' : ' + value)\n",
    "    print('\\n')"
   ]
  },
  {
   "cell_type": "markdown",
   "metadata": {},
   "source": [
    "Nesting - Lists in a dictionary\n",
    "\n",
    "Storing a list inside a dictionary allows you to associate more than one value with each key."
   ]
  },
  {
   "cell_type": "markdown",
   "metadata": {},
   "source": [
    "Storing list in a dictionary:"
   ]
  },
  {
   "cell_type": "code",
   "execution_count": 25,
   "metadata": {
    "collapsed": true
   },
   "outputs": [],
   "source": [
    "# Store mutiple languages for each person\n",
    "fav_lang = {\n",
    "    'Phil' : ['Python', 'Ruby'],\n",
    "    'Mini' : ['C', 'Java'],\n",
    "    'Ellen' : ['Perl', 'Ruby'],\n",
    "    'Sara' : ['R', 'Python']\n",
    "}"
   ]
  },
  {
   "cell_type": "code",
   "execution_count": 26,
   "metadata": {},
   "outputs": [
    {
     "name": "stdout",
     "output_type": "stream",
     "text": [
      "Phil : \n",
      " - Python\n",
      " - Ruby\n",
      "Mini : \n",
      " - C\n",
      " - Java\n",
      "Ellen : \n",
      " - Perl\n",
      " - Ruby\n",
      "Sara : \n",
      " - R\n",
      " - Python\n"
     ]
    }
   ],
   "source": [
    "for name, language in fav_lang.items():\n",
    "    print(name + ' : ')\n",
    "    for lang in language:\n",
    "        print(' - ' + lang)"
   ]
  },
  {
   "cell_type": "markdown",
   "metadata": {},
   "source": [
    "Nesting - A dictionary of dictionaries\n",
    "\n",
    "You can store a dictionary inside another dictionary. In this case each value associated with a key is itself a dictionary. "
   ]
  },
  {
   "cell_type": "markdown",
   "metadata": {},
   "source": [
    "Storing dictionaries in a dictionary:"
   ]
  },
  {
   "cell_type": "code",
   "execution_count": 27,
   "metadata": {
    "collapsed": true
   },
   "outputs": [],
   "source": [
    "user = {\n",
    "    'Einstein' : {\n",
    "        'First': 'Albert',\n",
    "        'Last' : 'Einstein',\n",
    "        'Location' : 'New Jersy'\n",
    "    },\n",
    "    'Curie' : {\n",
    "        'First' : 'Marie',\n",
    "        'Last' : 'Curie',\n",
    "        'Location' : 'Paris'\n",
    "    }\n",
    "}"
   ]
  },
  {
   "cell_type": "code",
   "execution_count": 28,
   "metadata": {},
   "outputs": [
    {
     "name": "stdout",
     "output_type": "stream",
     "text": [
      "\n",
      "Username: Einstein\n",
      "\n",
      "Username: Curie\n",
      "\n",
      "Full Name: Marie Curie\n",
      "\n",
      "Location: Paris\n"
     ]
    }
   ],
   "source": [
    "for username, user_dict in user.items():\n",
    "    print('\\nUsername: ' + username)\n",
    "    full_name = user_dict['First'] + \" \"\n",
    "    full_name += user_dict['Last']\n",
    "    location = user_dict['Location']\n",
    "    \n",
    "    # if we put print inside loop, it will print both the values and \n",
    "    # if print is outside the loop, it will only print second value(user_dict values)\n",
    "    \n",
    "print('\\nFull Name: ' + full_name.title())\n",
    "print('\\nLocation: ' + location.title())"
   ]
  },
  {
   "cell_type": "markdown",
   "metadata": {},
   "source": [
    "Preserving the order of keys and values:"
   ]
  },
  {
   "cell_type": "code",
   "execution_count": 29,
   "metadata": {
    "collapsed": true
   },
   "outputs": [],
   "source": [
    "from collections import OrderedDict"
   ]
  },
  {
   "cell_type": "code",
   "execution_count": 30,
   "metadata": {},
   "outputs": [
    {
     "name": "stdout",
     "output_type": "stream",
     "text": [
      "Jen: \n",
      " - Python\n",
      " - Ruby\n",
      "Ellen: \n",
      " - C\n",
      " - Java\n",
      "Phil: \n",
      " - R\n",
      " - Python\n",
      "Alle: \n",
      " - Go\n",
      " - R\n"
     ]
    }
   ],
   "source": [
    "fav_lang = OrderedDict()\n",
    "\n",
    "fav_lang['Jen'] = ['Python', 'Ruby']\n",
    "fav_lang['Ellen'] = ['C', 'Java']\n",
    "fav_lang['Phil'] = ['R', 'Python']\n",
    "fav_lang['Alle'] = ['Go', 'R']\n",
    "\n",
    "# Display the result in same order they are entered\n",
    "for name, language in fav_lang.items():\n",
    "    print(name + ': ')\n",
    "    for lang in language:\n",
    "        print(' - ' + lang)"
   ]
  },
  {
   "cell_type": "markdown",
   "metadata": {},
   "source": [
    "Generating a millions dictionaries:"
   ]
  },
  {
   "cell_type": "code",
   "execution_count": 31,
   "metadata": {
    "collapsed": true
   },
   "outputs": [],
   "source": [
    "aliens = []\n",
    "\n",
    "for alien in range(100000):\n",
    "    new_alien = {}\n",
    "    new_alien['color'] = 'green'\n",
    "    new_alien['points'] = 6\n",
    "    new_alien['x'] = 20 * alien\n",
    "    new_alien['y'] = 0\n",
    "    aliens.append(new_alien)"
   ]
  },
  {
   "cell_type": "code",
   "execution_count": 32,
   "metadata": {},
   "outputs": [
    {
     "name": "stdout",
     "output_type": "stream",
     "text": [
      "100000\n"
     ]
    }
   ],
   "source": [
    "print(len(aliens))"
   ]
  },
  {
   "cell_type": "code",
   "execution_count": null,
   "metadata": {
    "collapsed": true
   },
   "outputs": [],
   "source": []
  }
 ],
 "metadata": {
  "kernelspec": {
   "display_name": "Python 3",
   "language": "python",
   "name": "python3"
  },
  "language_info": {
   "codemirror_mode": {
    "name": "ipython",
    "version": 3
   },
   "file_extension": ".py",
   "mimetype": "text/x-python",
   "name": "python",
   "nbconvert_exporter": "python",
   "pygments_lexer": "ipython3",
   "version": "3.6.3"
  }
 },
 "nbformat": 4,
 "nbformat_minor": 2
}
